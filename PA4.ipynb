{
 "cells": [
  {
   "cell_type": "markdown",
   "id": "74555510",
   "metadata": {},
   "source": [
    "### Ty Johnson\n",
    "### Assignment 4\n",
    "### Spring 23\n",
    "### Version 0"
   ]
  },
  {
   "cell_type": "code",
   "execution_count": 3,
   "id": "03c52a2c",
   "metadata": {},
   "outputs": [
    {
     "name": "stdout",
     "output_type": "stream",
     "text": [
      "0\n",
      "1\n",
      "2\n",
      "3\n",
      "4\n",
      "5\n",
      "6 *\n",
      "7\n",
      "8\n",
      "9 *\n",
      "10\n",
      "11\n",
      "12 *\n",
      "13\n",
      "14\n",
      "15 *\n",
      "16\n",
      "17\n",
      "18 *\n",
      "19\n",
      "20\n",
      "21 *\n",
      "22\n",
      "23\n",
      "24 *\n",
      "25\n",
      "26\n",
      "27 *\n",
      "28\n",
      "29\n",
      "30 *\n",
      "31\n",
      "32\n",
      "33 *\n",
      "34\n",
      "35\n",
      "36 *\n",
      "37\n",
      "38\n",
      "39 *\n",
      "40\n",
      "41\n",
      "42 *\n",
      "43\n",
      "44\n",
      "45 *\n",
      "46\n",
      "47\n",
      "48 *\n",
      "49\n",
      "50\n",
      "51 *\n",
      "52\n",
      "53\n",
      "54 *\n",
      "55\n",
      "56\n",
      "57 *\n",
      "58\n",
      "59\n",
      "60 *\n",
      "61\n",
      "62\n",
      "63 *\n",
      "64\n",
      "65\n",
      "66 *\n",
      "67\n",
      "68\n",
      "69 *\n",
      "70\n",
      "71\n",
      "72 *\n",
      "73\n",
      "74\n",
      "75 *\n",
      "76\n",
      "77\n",
      "78 *\n",
      "79\n",
      "80\n",
      "81 *\n",
      "82\n",
      "83\n",
      "84 *\n",
      "85\n",
      "86\n",
      "87 *\n",
      "88\n",
      "89\n",
      "90 *\n",
      "91\n",
      "92\n",
      "93 *\n",
      "94\n",
      "95\n",
      "96 *\n",
      "97\n",
      "98\n",
      "99 *\n"
     ]
    }
   ],
   "source": [
    "for value in range (0,100):\n",
    "    if (value % 3 == 0 and value != 0 and value != 3):\n",
    "        print(value, '*')\n",
    "    else:\n",
    "        print(value)\n"
   ]
  },
  {
   "cell_type": "code",
   "execution_count": 127,
   "id": "efd43dbb",
   "metadata": {},
   "outputs": [
    {
     "name": "stdout",
     "output_type": "stream",
     "text": [
      "Enter Month in Number Format: 1\n",
      "January has 31  days\n"
     ]
    }
   ],
   "source": [
    "\n",
    "month = int(input('Enter Month in Number Format: '))\n",
    "\n",
    "monthNames = ['January', 'Febuary', 'March', 'April', 'May', 'June', 'July', 'August', 'September', 'October', 'November', 'December']\n",
    "if (month >= 1 and month <= 12):\n",
    "    if (month == 2):\n",
    "        print(monthNames[month - 1], 'has', 28, ' days')\n",
    "    elif (month == 4 or month == 6 or month == 9 or month == 11):\n",
    "        print(monthNames[month - 1], 'has', 30, ' days')\n",
    "    else:\n",
    "        print(monthNames[month - 1], 'has', 31, ' days')\n",
    "else:\n",
    "    print('Invalid Input')\n"
   ]
  },
  {
   "cell_type": "code",
   "execution_count": 98,
   "id": "05e3e43d",
   "metadata": {},
   "outputs": [
    {
     "name": "stdout",
     "output_type": "stream",
     "text": [
      "Enter a number: 8\n",
      "8 is not a prime number\n"
     ]
    }
   ],
   "source": [
    "number = int(input('Enter a number: '))\n",
    "\n",
    "if (number > 1):\n",
    "    for i in range(2, number):\n",
    "        if (number % i and i != number) == 0:\n",
    "            print(number, \"is not a prime number\")\n",
    "            break\n",
    "    else:\n",
    "        print(number, \"is a prime number\")\n",
    "    \n",
    "else:\n",
    "    print(number, \"is not a prime number\")"
   ]
  },
  {
   "cell_type": "code",
   "execution_count": 128,
   "id": "16bc6240",
   "metadata": {},
   "outputs": [
    {
     "name": "stdout",
     "output_type": "stream",
     "text": [
      "Enter Triangle Side A: 2\n",
      "Enter Triangle Side B: 2\n",
      "Enter Triangle Side C: 2\n",
      "Triangle is an equilateral triangle.\n"
     ]
    }
   ],
   "source": [
    "a = int(input('Enter Triangle Side A: '))\n",
    "b = int(input('Enter Triangle Side B: '))\n",
    "c = int(input('Enter Triangle Side C: '))\n",
    "\n",
    "if (a == b and a == c):\n",
    "    print('Triangle is an equilateral triangle.')\n",
    "elif (a != b and a != c and b != c):\n",
    "    print('Triangle is a scalene triangle.')\n",
    "else:\n",
    "    print('Triangle is an isosceles triangle')"
   ]
  },
  {
   "cell_type": "code",
   "execution_count": 29,
   "id": "31d9ad15",
   "metadata": {},
   "outputs": [
    {
     "name": "stdout",
     "output_type": "stream",
     "text": [
      "Enter Age to add to database: 23\n",
      "23 : Adult\n",
      "42 : Adult\n",
      "9 : Minor\n",
      "71 : Senior Citizen\n",
      "65 : Senior Citizen\n",
      "24 : Adult\n",
      "35 : Adult\n",
      "14 : Minor\n",
      "80 : Senior Citizen\n",
      "56 : Adult\n",
      "23 : Adult\n"
     ]
    }
   ],
   "source": [
    "age = [23,42,9,71,65,24,35,14,80,56]\n",
    "age.append(int(input('Enter Age to add to database: '))) #extra step to utilize user input\n",
    "\n",
    "for i in age:\n",
    "    if (i < 18):\n",
    "        print(i, ': Minor')\n",
    "    elif (i >= 18 and i < 64):\n",
    "        print(i, ': Adult')\n",
    "    else:\n",
    "        print(i, ': Senior Citizen')\n",
    "    \n",
    "    "
   ]
  },
  {
   "cell_type": "code",
   "execution_count": null,
   "id": "b3229a0f",
   "metadata": {},
   "outputs": [],
   "source": []
  }
 ],
 "metadata": {
  "kernelspec": {
   "display_name": "Python 3 (ipykernel)",
   "language": "python",
   "name": "python3"
  },
  "language_info": {
   "codemirror_mode": {
    "name": "ipython",
    "version": 3
   },
   "file_extension": ".py",
   "mimetype": "text/x-python",
   "name": "python",
   "nbconvert_exporter": "python",
   "pygments_lexer": "ipython3",
   "version": "3.9.13"
  }
 },
 "nbformat": 4,
 "nbformat_minor": 5
}
